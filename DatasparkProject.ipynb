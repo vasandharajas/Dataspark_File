{
 "cells": [
  {
   "cell_type": "code",
   "execution_count": null,
   "id": "c952ad1f-75f6-4f15-9609-b2d0202c37ab",
   "metadata": {},
   "outputs": [],
   "source": [
    "# Import Libraries"
   ]
  },
  {
   "cell_type": "code",
   "execution_count": 1,
   "id": "d4a95343-d2fa-4559-929b-021924e497ea",
   "metadata": {},
   "outputs": [],
   "source": [
    "import pandas as pd"
   ]
  },
  {
   "cell_type": "code",
   "execution_count": 3,
   "id": "40e0a928-6381-4c31-9d9c-d5843805c2d7",
   "metadata": {},
   "outputs": [],
   "source": [
    "import numpy as np"
   ]
  },
  {
   "cell_type": "code",
   "execution_count": 5,
   "id": "98b7c540-c215-4e88-9a82-6f9d84638b4f",
   "metadata": {},
   "outputs": [],
   "source": [
    "import matplotlib.pyplot as plt"
   ]
  },
  {
   "cell_type": "code",
   "execution_count": 7,
   "id": "b0759811-8dbb-435c-9ac2-825310da4f12",
   "metadata": {},
   "outputs": [],
   "source": [
    "import seaborn as sns"
   ]
  },
  {
   "cell_type": "code",
   "execution_count": 9,
   "id": "021d5684-5ed7-4cc5-8acd-be740b7ea2b6",
   "metadata": {},
   "outputs": [],
   "source": [
    "import mysql"
   ]
  },
  {
   "cell_type": "code",
   "execution_count": 97,
   "id": "969c659d-117d-45c4-b1fb-032f72d0c4ca",
   "metadata": {},
   "outputs": [],
   "source": [
    "import mysql.connector"
   ]
  },
  {
   "cell_type": "code",
   "execution_count": 99,
   "id": "23ff4914-d588-4710-83d3-c1d3af40c554",
   "metadata": {},
   "outputs": [],
   "source": [
    "from mysql.connector import Error"
   ]
  },
  {
   "cell_type": "code",
   "execution_count": null,
   "id": "f1119128-0fd6-4eb9-a500-5f462b62e209",
   "metadata": {},
   "outputs": [],
   "source": [
    "#Customer Table"
   ]
  },
  {
   "cell_type": "code",
   "execution_count": 15,
   "id": "31c3c171-e186-4b5f-8dec-921ecec9e91e",
   "metadata": {},
   "outputs": [
    {
     "data": {
      "text/html": [
       "<div>\n",
       "<style scoped>\n",
       "    .dataframe tbody tr th:only-of-type {\n",
       "        vertical-align: middle;\n",
       "    }\n",
       "\n",
       "    .dataframe tbody tr th {\n",
       "        vertical-align: top;\n",
       "    }\n",
       "\n",
       "    .dataframe thead th {\n",
       "        text-align: right;\n",
       "    }\n",
       "</style>\n",
       "<table border=\"1\" class=\"dataframe\">\n",
       "  <thead>\n",
       "    <tr style=\"text-align: right;\">\n",
       "      <th></th>\n",
       "      <th>CustomerKey</th>\n",
       "      <th>Gender</th>\n",
       "      <th>Name</th>\n",
       "      <th>City</th>\n",
       "      <th>State Code</th>\n",
       "      <th>State</th>\n",
       "      <th>Zip Code</th>\n",
       "      <th>Country</th>\n",
       "      <th>Continent</th>\n",
       "      <th>Birthday</th>\n",
       "    </tr>\n",
       "  </thead>\n",
       "  <tbody>\n",
       "    <tr>\n",
       "      <th>0</th>\n",
       "      <td>301</td>\n",
       "      <td>Female</td>\n",
       "      <td>Lilly Harding</td>\n",
       "      <td>WANDEARAH EAST</td>\n",
       "      <td>SA</td>\n",
       "      <td>South Australia</td>\n",
       "      <td>5523</td>\n",
       "      <td>Australia</td>\n",
       "      <td>Australia</td>\n",
       "      <td>7/3/1939</td>\n",
       "    </tr>\n",
       "    <tr>\n",
       "      <th>1</th>\n",
       "      <td>325</td>\n",
       "      <td>Female</td>\n",
       "      <td>Madison Hull</td>\n",
       "      <td>MOUNT BUDD</td>\n",
       "      <td>WA</td>\n",
       "      <td>Western Australia</td>\n",
       "      <td>6522</td>\n",
       "      <td>Australia</td>\n",
       "      <td>Australia</td>\n",
       "      <td>9/27/1979</td>\n",
       "    </tr>\n",
       "    <tr>\n",
       "      <th>2</th>\n",
       "      <td>554</td>\n",
       "      <td>Female</td>\n",
       "      <td>Claire Ferres</td>\n",
       "      <td>WINJALLOK</td>\n",
       "      <td>VIC</td>\n",
       "      <td>Victoria</td>\n",
       "      <td>3380</td>\n",
       "      <td>Australia</td>\n",
       "      <td>Australia</td>\n",
       "      <td>5/26/1947</td>\n",
       "    </tr>\n",
       "    <tr>\n",
       "      <th>3</th>\n",
       "      <td>786</td>\n",
       "      <td>Male</td>\n",
       "      <td>Jai Poltpalingada</td>\n",
       "      <td>MIDDLE RIVER</td>\n",
       "      <td>SA</td>\n",
       "      <td>South Australia</td>\n",
       "      <td>5223</td>\n",
       "      <td>Australia</td>\n",
       "      <td>Australia</td>\n",
       "      <td>9/17/1957</td>\n",
       "    </tr>\n",
       "    <tr>\n",
       "      <th>4</th>\n",
       "      <td>1042</td>\n",
       "      <td>Male</td>\n",
       "      <td>Aidan Pankhurst</td>\n",
       "      <td>TAWONGA SOUTH</td>\n",
       "      <td>VIC</td>\n",
       "      <td>Victoria</td>\n",
       "      <td>3698</td>\n",
       "      <td>Australia</td>\n",
       "      <td>Australia</td>\n",
       "      <td>11/19/1965</td>\n",
       "    </tr>\n",
       "    <tr>\n",
       "      <th>...</th>\n",
       "      <td>...</td>\n",
       "      <td>...</td>\n",
       "      <td>...</td>\n",
       "      <td>...</td>\n",
       "      <td>...</td>\n",
       "      <td>...</td>\n",
       "      <td>...</td>\n",
       "      <td>...</td>\n",
       "      <td>...</td>\n",
       "      <td>...</td>\n",
       "    </tr>\n",
       "    <tr>\n",
       "      <th>15261</th>\n",
       "      <td>2099600</td>\n",
       "      <td>Female</td>\n",
       "      <td>Denisa Duková</td>\n",
       "      <td>Houston</td>\n",
       "      <td>TX</td>\n",
       "      <td>Texas</td>\n",
       "      <td>77017</td>\n",
       "      <td>United States</td>\n",
       "      <td>North America</td>\n",
       "      <td>3/25/1936</td>\n",
       "    </tr>\n",
       "    <tr>\n",
       "      <th>15262</th>\n",
       "      <td>2099618</td>\n",
       "      <td>Male</td>\n",
       "      <td>Justin Solórzano</td>\n",
       "      <td>Mclean</td>\n",
       "      <td>VA</td>\n",
       "      <td>Virginia</td>\n",
       "      <td>22101</td>\n",
       "      <td>United States</td>\n",
       "      <td>North America</td>\n",
       "      <td>2/16/1992</td>\n",
       "    </tr>\n",
       "    <tr>\n",
       "      <th>15263</th>\n",
       "      <td>2099758</td>\n",
       "      <td>Male</td>\n",
       "      <td>Svend Petrussen</td>\n",
       "      <td>Wilmington</td>\n",
       "      <td>NC</td>\n",
       "      <td>North Carolina</td>\n",
       "      <td>28405</td>\n",
       "      <td>United States</td>\n",
       "      <td>North America</td>\n",
       "      <td>11/9/1937</td>\n",
       "    </tr>\n",
       "    <tr>\n",
       "      <th>15264</th>\n",
       "      <td>2099862</td>\n",
       "      <td>Female</td>\n",
       "      <td>Lorenza Rush</td>\n",
       "      <td>Riverside</td>\n",
       "      <td>CA</td>\n",
       "      <td>California</td>\n",
       "      <td>92501</td>\n",
       "      <td>United States</td>\n",
       "      <td>North America</td>\n",
       "      <td>10/12/1937</td>\n",
       "    </tr>\n",
       "    <tr>\n",
       "      <th>15265</th>\n",
       "      <td>2099937</td>\n",
       "      <td>Male</td>\n",
       "      <td>Zygmunt Kaminski</td>\n",
       "      <td>Bloomfield Township</td>\n",
       "      <td>MI</td>\n",
       "      <td>Michigan</td>\n",
       "      <td>48302</td>\n",
       "      <td>United States</td>\n",
       "      <td>North America</td>\n",
       "      <td>8/18/1965</td>\n",
       "    </tr>\n",
       "  </tbody>\n",
       "</table>\n",
       "<p>15266 rows × 10 columns</p>\n",
       "</div>"
      ],
      "text/plain": [
       "       CustomerKey  Gender               Name                 City State Code  \\\n",
       "0              301  Female      Lilly Harding       WANDEARAH EAST         SA   \n",
       "1              325  Female       Madison Hull           MOUNT BUDD         WA   \n",
       "2              554  Female      Claire Ferres            WINJALLOK        VIC   \n",
       "3              786    Male  Jai Poltpalingada         MIDDLE RIVER         SA   \n",
       "4             1042    Male    Aidan Pankhurst        TAWONGA SOUTH        VIC   \n",
       "...            ...     ...                ...                  ...        ...   \n",
       "15261      2099600  Female     Denisa Duková              Houston         TX   \n",
       "15262      2099618    Male   Justin Solórzano               Mclean         VA   \n",
       "15263      2099758    Male    Svend Petrussen           Wilmington         NC   \n",
       "15264      2099862  Female       Lorenza Rush            Riverside         CA   \n",
       "15265      2099937    Male   Zygmunt Kaminski  Bloomfield Township         MI   \n",
       "\n",
       "                   State Zip Code        Country      Continent    Birthday  \n",
       "0        South Australia     5523      Australia      Australia    7/3/1939  \n",
       "1      Western Australia     6522      Australia      Australia   9/27/1979  \n",
       "2               Victoria     3380      Australia      Australia   5/26/1947  \n",
       "3        South Australia     5223      Australia      Australia   9/17/1957  \n",
       "4               Victoria     3698      Australia      Australia  11/19/1965  \n",
       "...                  ...      ...            ...            ...         ...  \n",
       "15261              Texas    77017  United States  North America   3/25/1936  \n",
       "15262           Virginia    22101  United States  North America   2/16/1992  \n",
       "15263     North Carolina    28405  United States  North America   11/9/1937  \n",
       "15264         California    92501  United States  North America  10/12/1937  \n",
       "15265           Michigan    48302  United States  North America   8/18/1965  \n",
       "\n",
       "[15266 rows x 10 columns]"
      ]
     },
     "execution_count": 15,
     "metadata": {},
     "output_type": "execute_result"
    }
   ],
   "source": [
    "path=r\"C:\\Users\\anand\\Downloads\\Customers.csv\"\n",
    "df_customers=pd.read_csv(path,encoding='latin-1')\n",
    "df_customers"
   ]
  },
  {
   "cell_type": "code",
   "execution_count": 17,
   "id": "a43baa74-8278-450e-8725-16515b91ab8c",
   "metadata": {},
   "outputs": [
    {
     "data": {
      "text/html": [
       "<div>\n",
       "<style scoped>\n",
       "    .dataframe tbody tr th:only-of-type {\n",
       "        vertical-align: middle;\n",
       "    }\n",
       "\n",
       "    .dataframe tbody tr th {\n",
       "        vertical-align: top;\n",
       "    }\n",
       "\n",
       "    .dataframe thead th {\n",
       "        text-align: right;\n",
       "    }\n",
       "</style>\n",
       "<table border=\"1\" class=\"dataframe\">\n",
       "  <thead>\n",
       "    <tr style=\"text-align: right;\">\n",
       "      <th></th>\n",
       "      <th>CustomerKey</th>\n",
       "      <th>Gender</th>\n",
       "      <th>Name</th>\n",
       "      <th>City</th>\n",
       "      <th>State Code</th>\n",
       "      <th>State</th>\n",
       "      <th>Zip Code</th>\n",
       "      <th>Country</th>\n",
       "      <th>Continent</th>\n",
       "      <th>Birthday</th>\n",
       "    </tr>\n",
       "  </thead>\n",
       "  <tbody>\n",
       "    <tr>\n",
       "      <th>0</th>\n",
       "      <td>301</td>\n",
       "      <td>Female</td>\n",
       "      <td>Lilly Harding</td>\n",
       "      <td>WANDEARAH EAST</td>\n",
       "      <td>SA</td>\n",
       "      <td>South Australia</td>\n",
       "      <td>5523</td>\n",
       "      <td>Australia</td>\n",
       "      <td>Australia</td>\n",
       "      <td>1939-07-03</td>\n",
       "    </tr>\n",
       "    <tr>\n",
       "      <th>1</th>\n",
       "      <td>325</td>\n",
       "      <td>Female</td>\n",
       "      <td>Madison Hull</td>\n",
       "      <td>MOUNT BUDD</td>\n",
       "      <td>WA</td>\n",
       "      <td>Western Australia</td>\n",
       "      <td>6522</td>\n",
       "      <td>Australia</td>\n",
       "      <td>Australia</td>\n",
       "      <td>1979-09-27</td>\n",
       "    </tr>\n",
       "    <tr>\n",
       "      <th>2</th>\n",
       "      <td>554</td>\n",
       "      <td>Female</td>\n",
       "      <td>Claire Ferres</td>\n",
       "      <td>WINJALLOK</td>\n",
       "      <td>VIC</td>\n",
       "      <td>Victoria</td>\n",
       "      <td>3380</td>\n",
       "      <td>Australia</td>\n",
       "      <td>Australia</td>\n",
       "      <td>1947-05-26</td>\n",
       "    </tr>\n",
       "    <tr>\n",
       "      <th>3</th>\n",
       "      <td>786</td>\n",
       "      <td>Male</td>\n",
       "      <td>Jai Poltpalingada</td>\n",
       "      <td>MIDDLE RIVER</td>\n",
       "      <td>SA</td>\n",
       "      <td>South Australia</td>\n",
       "      <td>5223</td>\n",
       "      <td>Australia</td>\n",
       "      <td>Australia</td>\n",
       "      <td>1957-09-17</td>\n",
       "    </tr>\n",
       "    <tr>\n",
       "      <th>4</th>\n",
       "      <td>1042</td>\n",
       "      <td>Male</td>\n",
       "      <td>Aidan Pankhurst</td>\n",
       "      <td>TAWONGA SOUTH</td>\n",
       "      <td>VIC</td>\n",
       "      <td>Victoria</td>\n",
       "      <td>3698</td>\n",
       "      <td>Australia</td>\n",
       "      <td>Australia</td>\n",
       "      <td>1965-11-19</td>\n",
       "    </tr>\n",
       "    <tr>\n",
       "      <th>...</th>\n",
       "      <td>...</td>\n",
       "      <td>...</td>\n",
       "      <td>...</td>\n",
       "      <td>...</td>\n",
       "      <td>...</td>\n",
       "      <td>...</td>\n",
       "      <td>...</td>\n",
       "      <td>...</td>\n",
       "      <td>...</td>\n",
       "      <td>...</td>\n",
       "    </tr>\n",
       "    <tr>\n",
       "      <th>15261</th>\n",
       "      <td>2099600</td>\n",
       "      <td>Female</td>\n",
       "      <td>Denisa Duková</td>\n",
       "      <td>Houston</td>\n",
       "      <td>TX</td>\n",
       "      <td>Texas</td>\n",
       "      <td>77017</td>\n",
       "      <td>United States</td>\n",
       "      <td>North America</td>\n",
       "      <td>1936-03-25</td>\n",
       "    </tr>\n",
       "    <tr>\n",
       "      <th>15262</th>\n",
       "      <td>2099618</td>\n",
       "      <td>Male</td>\n",
       "      <td>Justin Solórzano</td>\n",
       "      <td>Mclean</td>\n",
       "      <td>VA</td>\n",
       "      <td>Virginia</td>\n",
       "      <td>22101</td>\n",
       "      <td>United States</td>\n",
       "      <td>North America</td>\n",
       "      <td>1992-02-16</td>\n",
       "    </tr>\n",
       "    <tr>\n",
       "      <th>15263</th>\n",
       "      <td>2099758</td>\n",
       "      <td>Male</td>\n",
       "      <td>Svend Petrussen</td>\n",
       "      <td>Wilmington</td>\n",
       "      <td>NC</td>\n",
       "      <td>North Carolina</td>\n",
       "      <td>28405</td>\n",
       "      <td>United States</td>\n",
       "      <td>North America</td>\n",
       "      <td>1937-11-09</td>\n",
       "    </tr>\n",
       "    <tr>\n",
       "      <th>15264</th>\n",
       "      <td>2099862</td>\n",
       "      <td>Female</td>\n",
       "      <td>Lorenza Rush</td>\n",
       "      <td>Riverside</td>\n",
       "      <td>CA</td>\n",
       "      <td>California</td>\n",
       "      <td>92501</td>\n",
       "      <td>United States</td>\n",
       "      <td>North America</td>\n",
       "      <td>1937-10-12</td>\n",
       "    </tr>\n",
       "    <tr>\n",
       "      <th>15265</th>\n",
       "      <td>2099937</td>\n",
       "      <td>Male</td>\n",
       "      <td>Zygmunt Kaminski</td>\n",
       "      <td>Bloomfield Township</td>\n",
       "      <td>MI</td>\n",
       "      <td>Michigan</td>\n",
       "      <td>48302</td>\n",
       "      <td>United States</td>\n",
       "      <td>North America</td>\n",
       "      <td>1965-08-18</td>\n",
       "    </tr>\n",
       "  </tbody>\n",
       "</table>\n",
       "<p>15266 rows × 10 columns</p>\n",
       "</div>"
      ],
      "text/plain": [
       "       CustomerKey  Gender               Name                 City State Code  \\\n",
       "0              301  Female      Lilly Harding       WANDEARAH EAST         SA   \n",
       "1              325  Female       Madison Hull           MOUNT BUDD         WA   \n",
       "2              554  Female      Claire Ferres            WINJALLOK        VIC   \n",
       "3              786    Male  Jai Poltpalingada         MIDDLE RIVER         SA   \n",
       "4             1042    Male    Aidan Pankhurst        TAWONGA SOUTH        VIC   \n",
       "...            ...     ...                ...                  ...        ...   \n",
       "15261      2099600  Female     Denisa Duková              Houston         TX   \n",
       "15262      2099618    Male   Justin Solórzano               Mclean         VA   \n",
       "15263      2099758    Male    Svend Petrussen           Wilmington         NC   \n",
       "15264      2099862  Female       Lorenza Rush            Riverside         CA   \n",
       "15265      2099937    Male   Zygmunt Kaminski  Bloomfield Township         MI   \n",
       "\n",
       "                   State Zip Code        Country      Continent    Birthday  \n",
       "0        South Australia     5523      Australia      Australia  1939-07-03  \n",
       "1      Western Australia     6522      Australia      Australia  1979-09-27  \n",
       "2               Victoria     3380      Australia      Australia  1947-05-26  \n",
       "3        South Australia     5223      Australia      Australia  1957-09-17  \n",
       "4               Victoria     3698      Australia      Australia  1965-11-19  \n",
       "...                  ...      ...            ...            ...         ...  \n",
       "15261              Texas    77017  United States  North America  1936-03-25  \n",
       "15262           Virginia    22101  United States  North America  1992-02-16  \n",
       "15263     North Carolina    28405  United States  North America  1937-11-09  \n",
       "15264         California    92501  United States  North America  1937-10-12  \n",
       "15265           Michigan    48302  United States  North America  1965-08-18  \n",
       "\n",
       "[15266 rows x 10 columns]"
      ]
     },
     "execution_count": 17,
     "metadata": {},
     "output_type": "execute_result"
    }
   ],
   "source": [
    "df_customers['Birthday'] = pd.to_datetime(df_customers['Birthday'], format=\"%m/%d/%Y\", errors='coerce').dt.date\n",
    "df_customers"
   ]
  },
  {
   "cell_type": "code",
   "execution_count": 19,
   "id": "cdbbf554-e6e6-48af-8ace-ca1e776a05e2",
   "metadata": {},
   "outputs": [
    {
     "name": "stdout",
     "output_type": "stream",
     "text": [
      "<class 'pandas.core.frame.DataFrame'>\n",
      "RangeIndex: 15266 entries, 0 to 15265\n",
      "Data columns (total 10 columns):\n",
      " #   Column       Non-Null Count  Dtype \n",
      "---  ------       --------------  ----- \n",
      " 0   CustomerKey  15266 non-null  int64 \n",
      " 1   Gender       15266 non-null  object\n",
      " 2   Name         15266 non-null  object\n",
      " 3   City         15266 non-null  object\n",
      " 4   State Code   15256 non-null  object\n",
      " 5   State        15266 non-null  object\n",
      " 6   Zip Code     15266 non-null  object\n",
      " 7   Country      15266 non-null  object\n",
      " 8   Continent    15266 non-null  object\n",
      " 9   Birthday     15266 non-null  object\n",
      "dtypes: int64(1), object(9)\n",
      "memory usage: 1.2+ MB\n"
     ]
    }
   ],
   "source": [
    "df_customers.info()"
   ]
  },
  {
   "cell_type": "code",
   "execution_count": 21,
   "id": "463602be-b60f-4613-adeb-33b2c0cc8952",
   "metadata": {},
   "outputs": [
    {
     "data": {
      "text/plain": [
       "CustomerKey     0\n",
       "Gender          0\n",
       "Name            0\n",
       "City            0\n",
       "State Code     10\n",
       "State           0\n",
       "Zip Code        0\n",
       "Country         0\n",
       "Continent       0\n",
       "Birthday        0\n",
       "dtype: int64"
      ]
     },
     "execution_count": 21,
     "metadata": {},
     "output_type": "execute_result"
    }
   ],
   "source": [
    "df_customers.isnull().sum()"
   ]
  },
  {
   "cell_type": "code",
   "execution_count": 23,
   "id": "929b272b-1613-4a11-818a-2535c6d56787",
   "metadata": {},
   "outputs": [],
   "source": [
    "df_customers.drop([\"State Code\",\"Zip Code\"],axis=1,inplace=True)"
   ]
  },
  {
   "cell_type": "code",
   "execution_count": 45,
   "id": "fe03caf7-6348-4d39-8d44-89941d187995",
   "metadata": {},
   "outputs": [
    {
     "data": {
      "text/plain": [
       "Text(0.5, 1.0, 'counts as per Country')"
      ]
     },
     "execution_count": 45,
     "metadata": {},
     "output_type": "execute_result"
    },
    {
     "data": {
      "image/png": "[encoded data removed]",
      "text/plain": [
       "<Figure size 1400x500 with 1 Axes>"
      ]
     },
     "metadata": {},
     "output_type": "display_data"
    }
   ],
   "source": [
    "plt.figure(figsize=(14,5))\n",
    "sns.countplot(x=df_customers[\"Country\"],data=df_customers,hue=\"Country\")\n",
    "plt.xlabel(\"Country\")\n",
    "plt.ylabel(\"counts\")\n",
    "plt.title(\"counts as per Country\")"
   ]
  },
  {
   "cell_type": "code",
   "execution_count": 43,
   "id": "08a93c63-a8c2-49c5-a912-cd3cd65b0b73",
   "metadata": {},
   "outputs": [
    {
     "data": {
      "image/png": "[encoded data removed]",
      "text/plain": [
       "<Figure size 1400x500 with 2 Axes>"
      ]
     },
     "metadata": {},
     "output_type": "display_data"
    }
   ],
   "source": [
    "plt.figure(figsize=(14,5))\n",
    "plt.subplot(1,2,1)\n",
    "plt.pie(df_customers[\"Gender\"].value_counts(), \n",
    "        autopct='%1.0f%%', \n",
    "        labels=['Male', 'Female'])\n",
    "plt.subplot(2,2,2)\n",
    "sns.countplot(x=df_customers[\"Gender\"],data=df_customers,hue=\"Gender\")\n",
    "plt.xlabel(\"Gender\")\n",
    "plt.ylabel(\"counts\")\n",
    "plt.title(\"counts as per Gender\")\n",
    "plt.show()"
   ]
  },
  {
   "cell_type": "code",
   "execution_count": null,
   "id": "b5f31aaf-d5c6-4b60-bb9f-f6eec6d07e9a",
   "metadata": {},
   "outputs": [],
   "source": [
    "#Exchange Table"
   ]
  },
  {
   "cell_type": "code",
   "execution_count": 29,
   "id": "bfddfa05-97c5-47ff-a78d-67a8ab6155fb",
   "metadata": {},
   "outputs": [
    {
     "data": {
      "text/html": [
       "<div>\n",
       "<style scoped>\n",
       "    .dataframe tbody tr th:only-of-type {\n",
       "        vertical-align: middle;\n",
       "    }\n",
       "\n",
       "    .dataframe tbody tr th {\n",
       "        vertical-align: top;\n",
       "    }\n",
       "\n",
       "    .dataframe thead th {\n",
       "        text-align: right;\n",
       "    }\n",
       "</style>\n",
       "<table border=\"1\" class=\"dataframe\">\n",
       "  <thead>\n",
       "    <tr style=\"text-align: right;\">\n",
       "      <th></th>\n",
       "      <th>Date</th>\n",
       "      <th>Currency</th>\n",
       "      <th>Exchange</th>\n",
       "    </tr>\n",
       "  </thead>\n",
       "  <tbody>\n",
       "    <tr>\n",
       "      <th>0</th>\n",
       "      <td>1/1/2015</td>\n",
       "      <td>USD</td>\n",
       "      <td>1.0000</td>\n",
       "    </tr>\n",
       "    <tr>\n",
       "      <th>1</th>\n",
       "      <td>1/1/2015</td>\n",
       "      <td>CAD</td>\n",
       "      <td>1.1583</td>\n",
       "    </tr>\n",
       "    <tr>\n",
       "      <th>2</th>\n",
       "      <td>1/1/2015</td>\n",
       "      <td>AUD</td>\n",
       "      <td>1.2214</td>\n",
       "    </tr>\n",
       "    <tr>\n",
       "      <th>3</th>\n",
       "      <td>1/1/2015</td>\n",
       "      <td>EUR</td>\n",
       "      <td>0.8237</td>\n",
       "    </tr>\n",
       "    <tr>\n",
       "      <th>4</th>\n",
       "      <td>1/1/2015</td>\n",
       "      <td>GBP</td>\n",
       "      <td>0.6415</td>\n",
       "    </tr>\n",
       "    <tr>\n",
       "      <th>...</th>\n",
       "      <td>...</td>\n",
       "      <td>...</td>\n",
       "      <td>...</td>\n",
       "    </tr>\n",
       "    <tr>\n",
       "      <th>11210</th>\n",
       "      <td>2/20/2021</td>\n",
       "      <td>USD</td>\n",
       "      <td>1.0000</td>\n",
       "    </tr>\n",
       "    <tr>\n",
       "      <th>11211</th>\n",
       "      <td>2/20/2021</td>\n",
       "      <td>CAD</td>\n",
       "      <td>1.2610</td>\n",
       "    </tr>\n",
       "    <tr>\n",
       "      <th>11212</th>\n",
       "      <td>2/20/2021</td>\n",
       "      <td>AUD</td>\n",
       "      <td>1.2723</td>\n",
       "    </tr>\n",
       "    <tr>\n",
       "      <th>11213</th>\n",
       "      <td>2/20/2021</td>\n",
       "      <td>EUR</td>\n",
       "      <td>0.8238</td>\n",
       "    </tr>\n",
       "    <tr>\n",
       "      <th>11214</th>\n",
       "      <td>2/20/2021</td>\n",
       "      <td>GBP</td>\n",
       "      <td>0.7126</td>\n",
       "    </tr>\n",
       "  </tbody>\n",
       "</table>\n",
       "<p>11215 rows × 3 columns</p>\n",
       "</div>"
      ],
      "text/plain": [
       "            Date Currency  Exchange\n",
       "0       1/1/2015      USD    1.0000\n",
       "1       1/1/2015      CAD    1.1583\n",
       "2       1/1/2015      AUD    1.2214\n",
       "3       1/1/2015      EUR    0.8237\n",
       "4       1/1/2015      GBP    0.6415\n",
       "...          ...      ...       ...\n",
       "11210  2/20/2021      USD    1.0000\n",
       "11211  2/20/2021      CAD    1.2610\n",
       "11212  2/20/2021      AUD    1.2723\n",
       "11213  2/20/2021      EUR    0.8238\n",
       "11214  2/20/2021      GBP    0.7126\n",
       "\n",
       "[11215 rows x 3 columns]"
      ]
     },
     "execution_count": 29,
     "metadata": {},
     "output_type": "execute_result"
    }
   ],
   "source": [
    "path=r\"C:\\Users\\anand\\Downloads\\Exchange_Rates.csv\"\n",
    "df_exchange=pd.read_csv(path)\n",
    "df_exchange"
   ]
  },
  {
   "cell_type": "code",
   "execution_count": 31,
   "id": "92149165-7415-447d-9c86-96c13b08b8bd",
   "metadata": {},
   "outputs": [],
   "source": [
    "df_exchange.rename(columns={\"Currency\":\"Currency Code\"},inplace=True)\n",
    "df_exchange['Date'] = pd.to_datetime(df_exchange['Date'], format=\"%m/%d/%Y\", errors='coerce')"
   ]
  },
  {
   "cell_type": "code",
   "execution_count": 33,
   "id": "112fa6c1-67b6-4721-9130-38afe3b41c0f",
   "metadata": {},
   "outputs": [
    {
     "name": "stdout",
     "output_type": "stream",
     "text": [
      "<class 'pandas.core.frame.DataFrame'>\n",
      "RangeIndex: 11215 entries, 0 to 11214\n",
      "Data columns (total 3 columns):\n",
      " #   Column         Non-Null Count  Dtype         \n",
      "---  ------         --------------  -----         \n",
      " 0   Date           11215 non-null  datetime64[ns]\n",
      " 1   Currency Code  11215 non-null  object        \n",
      " 2   Exchange       11215 non-null  float64       \n",
      "dtypes: datetime64[ns](1), float64(1), object(1)\n",
      "memory usage: 263.0+ KB\n"
     ]
    }
   ],
   "source": [
    "df_exchange.info()"
   ]
  },
  {
   "cell_type": "code",
   "execution_count": 35,
   "id": "5829ec45-7ec3-4368-95bd-b454f37e4d8c",
   "metadata": {},
   "outputs": [
    {
     "data": {
      "text/plain": [
       "Date             0\n",
       "Currency Code    0\n",
       "Exchange         0\n",
       "dtype: int64"
      ]
     },
     "execution_count": 35,
     "metadata": {},
     "output_type": "execute_result"
    }
   ],
   "source": [
    "df_exchange.isnull().sum()"
   ]
  },
  {
   "cell_type": "code",
   "execution_count": 41,
   "id": "cc201051-91f1-4d8e-96d9-ceb3f48b1c56",
   "metadata": {},
   "outputs": [
    {
     "data": {
      "text/plain": [
       "Text(0.5, 1.0, 'counts as per Currency Code')"
      ]
     },
     "execution_count": 41,
     "metadata": {},
     "output_type": "execute_result"
    },
    {
     "data": {
      "image/png": "[encoded data removed]",
      "text/plain": [
       "<Figure size 1400x500 with 1 Axes>"
      ]
     },
     "metadata": {},
     "output_type": "display_data"
    }
   ],
   "source": [
    "plt.figure(figsize=(14,5))\n",
    "sns.countplot(x=df_exchange[\"Currency Code\"],data=df_exchange,hue=\"Currency Code\")\n",
    "plt.xlabel(\"Currency Code\")\n",
    "plt.ylabel(\"counts\")\n",
    "plt.title(\"counts as per Currency Code\")"
   ]
  },
  {
   "cell_type": "code",
   "execution_count": null,
   "id": "82efd9d6-dacf-4013-b6e1-e4e038d6bc94",
   "metadata": {},
   "outputs": [],
   "source": [
    "#Product Table"
   ]
  },
  {
   "cell_type": "code",
   "execution_count": 47,
   "id": "dc69a883-4fd7-4fce-a9f2-a9804439df21",
   "metadata": {},
   "outputs": [
    {
     "data": {
      "text/html": [
       "<div>\n",
       "<style scoped>\n",
       "    .dataframe tbody tr th:only-of-type {\n",
       "        vertical-align: middle;\n",
       "    }\n",
       "\n",
       "    .dataframe tbody tr th {\n",
       "        vertical-align: top;\n",
       "    }\n",
       "\n",
       "    .dataframe thead th {\n",
       "        text-align: right;\n",
       "    }\n",
       "</style>\n",
       "<table border=\"1\" class=\"dataframe\">\n",
       "  <thead>\n",
       "    <tr style=\"text-align: right;\">\n",
       "      <th></th>\n",
       "      <th>ProductKey</th>\n",
       "      <th>Product Name</th>\n",
       "      <th>Brand</th>\n",
       "      <th>Color</th>\n",
       "      <th>Unit Cost USD</th>\n",
       "      <th>Unit Price USD</th>\n",
       "      <th>SubcategoryKey</th>\n",
       "      <th>Subcategory</th>\n",
       "      <th>CategoryKey</th>\n",
       "      <th>Category</th>\n",
       "    </tr>\n",
       "  </thead>\n",
       "  <tbody>\n",
       "    <tr>\n",
       "      <th>0</th>\n",
       "      <td>1</td>\n",
       "      <td>Contoso 512MB MP3 Player E51 Silver</td>\n",
       "      <td>Contoso</td>\n",
       "      <td>Silver</td>\n",
       "      <td>$6.62</td>\n",
       "      <td>$12.99</td>\n",
       "      <td>101</td>\n",
       "      <td>MP4&amp;MP3</td>\n",
       "      <td>1</td>\n",
       "      <td>Audio</td>\n",
       "    </tr>\n",
       "    <tr>\n",
       "      <th>1</th>\n",
       "      <td>2</td>\n",
       "      <td>Contoso 512MB MP3 Player E51 Blue</td>\n",
       "      <td>Contoso</td>\n",
       "      <td>Blue</td>\n",
       "      <td>$6.62</td>\n",
       "      <td>$12.99</td>\n",
       "      <td>101</td>\n",
       "      <td>MP4&amp;MP3</td>\n",
       "      <td>1</td>\n",
       "      <td>Audio</td>\n",
       "    </tr>\n",
       "    <tr>\n",
       "      <th>2</th>\n",
       "      <td>3</td>\n",
       "      <td>Contoso 1G MP3 Player E100 White</td>\n",
       "      <td>Contoso</td>\n",
       "      <td>White</td>\n",
       "      <td>$7.40</td>\n",
       "      <td>$14.52</td>\n",
       "      <td>101</td>\n",
       "      <td>MP4&amp;MP3</td>\n",
       "      <td>1</td>\n",
       "      <td>Audio</td>\n",
       "    </tr>\n",
       "    <tr>\n",
       "      <th>3</th>\n",
       "      <td>4</td>\n",
       "      <td>Contoso 2G MP3 Player E200 Silver</td>\n",
       "      <td>Contoso</td>\n",
       "      <td>Silver</td>\n",
       "      <td>$11.00</td>\n",
       "      <td>$21.57</td>\n",
       "      <td>101</td>\n",
       "      <td>MP4&amp;MP3</td>\n",
       "      <td>1</td>\n",
       "      <td>Audio</td>\n",
       "    </tr>\n",
       "    <tr>\n",
       "      <th>4</th>\n",
       "      <td>5</td>\n",
       "      <td>Contoso 2G MP3 Player E200 Red</td>\n",
       "      <td>Contoso</td>\n",
       "      <td>Red</td>\n",
       "      <td>$11.00</td>\n",
       "      <td>$21.57</td>\n",
       "      <td>101</td>\n",
       "      <td>MP4&amp;MP3</td>\n",
       "      <td>1</td>\n",
       "      <td>Audio</td>\n",
       "    </tr>\n",
       "    <tr>\n",
       "      <th>...</th>\n",
       "      <td>...</td>\n",
       "      <td>...</td>\n",
       "      <td>...</td>\n",
       "      <td>...</td>\n",
       "      <td>...</td>\n",
       "      <td>...</td>\n",
       "      <td>...</td>\n",
       "      <td>...</td>\n",
       "      <td>...</td>\n",
       "      <td>...</td>\n",
       "    </tr>\n",
       "    <tr>\n",
       "      <th>2512</th>\n",
       "      <td>2513</td>\n",
       "      <td>Contoso Bluetooth Active Headphones L15 Red</td>\n",
       "      <td>Contoso</td>\n",
       "      <td>Red</td>\n",
       "      <td>$43.07</td>\n",
       "      <td>$129.99</td>\n",
       "      <td>505</td>\n",
       "      <td>Cell phones Accessories</td>\n",
       "      <td>5</td>\n",
       "      <td>Cell phones</td>\n",
       "    </tr>\n",
       "    <tr>\n",
       "      <th>2513</th>\n",
       "      <td>2514</td>\n",
       "      <td>Contoso Bluetooth Active Headphones L15 White</td>\n",
       "      <td>Contoso</td>\n",
       "      <td>White</td>\n",
       "      <td>$43.07</td>\n",
       "      <td>$129.99</td>\n",
       "      <td>505</td>\n",
       "      <td>Cell phones Accessories</td>\n",
       "      <td>5</td>\n",
       "      <td>Cell phones</td>\n",
       "    </tr>\n",
       "    <tr>\n",
       "      <th>2514</th>\n",
       "      <td>2515</td>\n",
       "      <td>Contoso In-Line Coupler E180 White</td>\n",
       "      <td>Contoso</td>\n",
       "      <td>White</td>\n",
       "      <td>$1.71</td>\n",
       "      <td>$3.35</td>\n",
       "      <td>505</td>\n",
       "      <td>Cell phones Accessories</td>\n",
       "      <td>5</td>\n",
       "      <td>Cell phones</td>\n",
       "    </tr>\n",
       "    <tr>\n",
       "      <th>2515</th>\n",
       "      <td>2516</td>\n",
       "      <td>Contoso In-Line Coupler E180 Black</td>\n",
       "      <td>Contoso</td>\n",
       "      <td>Black</td>\n",
       "      <td>$1.71</td>\n",
       "      <td>$3.35</td>\n",
       "      <td>505</td>\n",
       "      <td>Cell phones Accessories</td>\n",
       "      <td>5</td>\n",
       "      <td>Cell phones</td>\n",
       "    </tr>\n",
       "    <tr>\n",
       "      <th>2516</th>\n",
       "      <td>2517</td>\n",
       "      <td>Contoso In-Line Coupler E180 Silver</td>\n",
       "      <td>Contoso</td>\n",
       "      <td>Silver</td>\n",
       "      <td>$1.71</td>\n",
       "      <td>$3.35</td>\n",
       "      <td>505</td>\n",
       "      <td>Cell phones Accessories</td>\n",
       "      <td>5</td>\n",
       "      <td>Cell phones</td>\n",
       "    </tr>\n",
       "  </tbody>\n",
       "</table>\n",
       "<p>2517 rows × 10 columns</p>\n",
       "</div>"
      ],
      "text/plain": [
       "      ProductKey                                   Product Name    Brand  \\\n",
       "0              1            Contoso 512MB MP3 Player E51 Silver  Contoso   \n",
       "1              2              Contoso 512MB MP3 Player E51 Blue  Contoso   \n",
       "2              3               Contoso 1G MP3 Player E100 White  Contoso   \n",
       "3              4              Contoso 2G MP3 Player E200 Silver  Contoso   \n",
       "4              5                 Contoso 2G MP3 Player E200 Red  Contoso   \n",
       "...          ...                                            ...      ...   \n",
       "2512        2513    Contoso Bluetooth Active Headphones L15 Red  Contoso   \n",
       "2513        2514  Contoso Bluetooth Active Headphones L15 White  Contoso   \n",
       "2514        2515             Contoso In-Line Coupler E180 White  Contoso   \n",
       "2515        2516             Contoso In-Line Coupler E180 Black  Contoso   \n",
       "2516        2517            Contoso In-Line Coupler E180 Silver  Contoso   \n",
       "\n",
       "       Color Unit Cost USD Unit Price USD  SubcategoryKey  \\\n",
       "0     Silver        $6.62         $12.99              101   \n",
       "1       Blue        $6.62         $12.99              101   \n",
       "2      White        $7.40         $14.52              101   \n",
       "3     Silver       $11.00         $21.57              101   \n",
       "4        Red       $11.00         $21.57              101   \n",
       "...      ...           ...            ...             ...   \n",
       "2512     Red       $43.07        $129.99              505   \n",
       "2513   White       $43.07        $129.99              505   \n",
       "2514   White        $1.71          $3.35              505   \n",
       "2515   Black        $1.71          $3.35              505   \n",
       "2516  Silver        $1.71          $3.35              505   \n",
       "\n",
       "                  Subcategory  CategoryKey     Category  \n",
       "0                     MP4&MP3            1        Audio  \n",
       "1                     MP4&MP3            1        Audio  \n",
       "2                     MP4&MP3            1        Audio  \n",
       "3                     MP4&MP3            1        Audio  \n",
       "4                     MP4&MP3            1        Audio  \n",
       "...                       ...          ...          ...  \n",
       "2512  Cell phones Accessories            5  Cell phones  \n",
       "2513  Cell phones Accessories            5  Cell phones  \n",
       "2514  Cell phones Accessories            5  Cell phones  \n",
       "2515  Cell phones Accessories            5  Cell phones  \n",
       "2516  Cell phones Accessories            5  Cell phones  \n",
       "\n",
       "[2517 rows x 10 columns]"
      ]
     },
     "execution_count": 47,
     "metadata": {},
     "output_type": "execute_result"
    }
   ],
   "source": [
    "path=r\"C:\\Users\\anand\\Downloads\\Products.csv\"\n",
    "df_products=pd.read_csv(path)\n",
    "df_products"
   ]
  },
  {
   "cell_type": "code",
   "execution_count": 49,
   "id": "238bb3e2-e438-435a-8d81-8dae882b0212",
   "metadata": {},
   "outputs": [
    {
     "name": "stdout",
     "output_type": "stream",
     "text": [
      "<class 'pandas.core.frame.DataFrame'>\n",
      "RangeIndex: 2517 entries, 0 to 2516\n",
      "Data columns (total 10 columns):\n",
      " #   Column          Non-Null Count  Dtype \n",
      "---  ------          --------------  ----- \n",
      " 0   ProductKey      2517 non-null   int64 \n",
      " 1   Product Name    2517 non-null   object\n",
      " 2   Brand           2517 non-null   object\n",
      " 3   Color           2517 non-null   object\n",
      " 4   Unit Cost USD   2517 non-null   object\n",
      " 5   Unit Price USD  2517 non-null   object\n",
      " 6   SubcategoryKey  2517 non-null   int64 \n",
      " 7   Subcategory     2517 non-null   object\n",
      " 8   CategoryKey     2517 non-null   int64 \n",
      " 9   Category        2517 non-null   object\n",
      "dtypes: int64(3), object(7)\n",
      "memory usage: 196.8+ KB\n"
     ]
    }
   ],
   "source": [
    "df_products.info()"
   ]
  },
  {
   "cell_type": "code",
   "execution_count": 51,
   "id": "5f0951f2-fa07-4f48-bbbe-c10860fb9d63",
   "metadata": {},
   "outputs": [
    {
     "data": {
      "text/plain": [
       "ProductKey        0\n",
       "Product Name      0\n",
       "Brand             0\n",
       "Color             0\n",
       "Unit Cost USD     0\n",
       "Unit Price USD    0\n",
       "SubcategoryKey    0\n",
       "Subcategory       0\n",
       "CategoryKey       0\n",
       "Category          0\n",
       "dtype: int64"
      ]
     },
     "execution_count": 51,
     "metadata": {},
     "output_type": "execute_result"
    }
   ],
   "source": [
    "df_products.isnull().sum()"
   ]
  },
  {
   "cell_type": "code",
   "execution_count": 53,
   "id": "7cefaa6a-4e78-4560-9d34-f53270dd471a",
   "metadata": {},
   "outputs": [],
   "source": [
    "df_products[\"Unit Cost USD\"] = df_products[\"Unit Cost USD\"].str.replace(\"$\", \"\").str.replace(\",\", \"\")\n",
    "df_products[\"Unit Cost USD\"] = df_products[\"Unit Cost USD\"].astype(float)\n",
    "\n",
    "df_products[\"Unit Price USD\"] = df_products[\"Unit Price USD\"].str.replace(\"$\", \"\").str.replace(\",\", \"\")\n",
    "df_products[\"Unit Price USD\"] = df_products[\"Unit Price USD\"].astype(float)"
   ]
  },
  {
   "cell_type": "code",
   "execution_count": 55,
   "id": "65e55a88-c9b7-45a8-8858-ed604294078d",
   "metadata": {},
   "outputs": [
    {
     "name": "stdout",
     "output_type": "stream",
     "text": [
      "<class 'pandas.core.frame.DataFrame'>\n",
      "RangeIndex: 2517 entries, 0 to 2516\n",
      "Data columns (total 10 columns):\n",
      " #   Column          Non-Null Count  Dtype  \n",
      "---  ------          --------------  -----  \n",
      " 0   ProductKey      2517 non-null   int64  \n",
      " 1   Product Name    2517 non-null   object \n",
      " 2   Brand           2517 non-null   object \n",
      " 3   Color           2517 non-null   object \n",
      " 4   Unit Cost USD   2517 non-null   float64\n",
      " 5   Unit Price USD  2517 non-null   float64\n",
      " 6   SubcategoryKey  2517 non-null   int64  \n",
      " 7   Subcategory     2517 non-null   object \n",
      " 8   CategoryKey     2517 non-null   int64  \n",
      " 9   Category        2517 non-null   object \n",
      "dtypes: float64(2), int64(3), object(5)\n",
      "memory usage: 196.8+ KB\n"
     ]
    }
   ],
   "source": [
    "df_products.info()"
   ]
  },
  {
   "cell_type": "code",
   "execution_count": 57,
   "id": "410cbb9d-6df7-49cb-8582-ca21c88a4168",
   "metadata": {},
   "outputs": [],
   "source": [
    "df_products.drop([\"SubcategoryKey\"],axis=1,inplace=True)"
   ]
  },
  {
   "cell_type": "code",
   "execution_count": 67,
   "id": "903c5223-4a8c-4f8c-a163-080f10924c50",
   "metadata": {},
   "outputs": [
    {
     "data": {
      "image/png": "[encoded data removed]",
      "text/plain": [
       "<Figure size 6000x1000 with 1 Axes>"
      ]
     },
     "metadata": {},
     "output_type": "display_data"
    },
    {
     "data": {
      "image/png": "[encoded data removed]",
      "text/plain": [
       "<Figure size 5000x1000 with 1 Axes>"
      ]
     },
     "metadata": {},
     "output_type": "display_data"
    }
   ],
   "source": [
    "plt.figure(figsize=(60,10))\n",
    "plt.subplot(1,2,1)\n",
    "sns.countplot(x=df_products[\"Brand\"],data=df_products,hue=\"Brand\")\n",
    "plt.xlabel(\"Brand\")\n",
    "plt.ylabel(\"counts\")\n",
    "plt.title(\"counts as per Brand\")\n",
    "plt.show()\n",
    "plt.figure(figsize=(50,10))\n",
    "plt.subplot(3,3,3)\n",
    "sns.countplot(x=df_products[\"Category\"],data=df_products,hue=\"Category\")\n",
    "plt.xlabel(\"Category\")\n",
    "plt.ylabel(\"counts\")\n",
    "plt.title(\"counts as per Category\")\n",
    "plt.show()"
   ]
  },
  {
   "cell_type": "code",
   "execution_count": null,
   "id": "9b7ac597-c84d-4370-8db6-58130a81d7e6",
   "metadata": {},
   "outputs": [],
   "source": [
    "#Sales Table"
   ]
  },
  {
   "cell_type": "code",
   "execution_count": 69,
   "id": "cfd8879e-df80-4d00-b13c-c93e29828b5c",
   "metadata": {},
   "outputs": [
    {
     "data": {
      "text/html": [
       "<div>\n",
       "<style scoped>\n",
       "    .dataframe tbody tr th:only-of-type {\n",
       "        vertical-align: middle;\n",
       "    }\n",
       "\n",
       "    .dataframe tbody tr th {\n",
       "        vertical-align: top;\n",
       "    }\n",
       "\n",
       "    .dataframe thead th {\n",
       "        text-align: right;\n",
       "    }\n",
       "</style>\n",
       "<table border=\"1\" class=\"dataframe\">\n",
       "  <thead>\n",
       "    <tr style=\"text-align: right;\">\n",
       "      <th></th>\n",
       "      <th>Order Number</th>\n",
       "      <th>Line Item</th>\n",
       "      <th>Order Date</th>\n",
       "      <th>Delivery Date</th>\n",
       "      <th>CustomerKey</th>\n",
       "      <th>StoreKey</th>\n",
       "      <th>ProductKey</th>\n",
       "      <th>Quantity</th>\n",
       "      <th>Currency Code</th>\n",
       "    </tr>\n",
       "  </thead>\n",
       "  <tbody>\n",
       "    <tr>\n",
       "      <th>0</th>\n",
       "      <td>366000</td>\n",
       "      <td>1</td>\n",
       "      <td>1/1/2016</td>\n",
       "      <td>NaN</td>\n",
       "      <td>265598</td>\n",
       "      <td>10</td>\n",
       "      <td>1304</td>\n",
       "      <td>1</td>\n",
       "      <td>CAD</td>\n",
       "    </tr>\n",
       "    <tr>\n",
       "      <th>1</th>\n",
       "      <td>366001</td>\n",
       "      <td>1</td>\n",
       "      <td>1/1/2016</td>\n",
       "      <td>1/13/2016</td>\n",
       "      <td>1269051</td>\n",
       "      <td>0</td>\n",
       "      <td>1048</td>\n",
       "      <td>2</td>\n",
       "      <td>USD</td>\n",
       "    </tr>\n",
       "    <tr>\n",
       "      <th>2</th>\n",
       "      <td>366001</td>\n",
       "      <td>2</td>\n",
       "      <td>1/1/2016</td>\n",
       "      <td>1/13/2016</td>\n",
       "      <td>1269051</td>\n",
       "      <td>0</td>\n",
       "      <td>2007</td>\n",
       "      <td>1</td>\n",
       "      <td>USD</td>\n",
       "    </tr>\n",
       "    <tr>\n",
       "      <th>3</th>\n",
       "      <td>366002</td>\n",
       "      <td>1</td>\n",
       "      <td>1/1/2016</td>\n",
       "      <td>1/12/2016</td>\n",
       "      <td>266019</td>\n",
       "      <td>0</td>\n",
       "      <td>1106</td>\n",
       "      <td>7</td>\n",
       "      <td>CAD</td>\n",
       "    </tr>\n",
       "    <tr>\n",
       "      <th>4</th>\n",
       "      <td>366002</td>\n",
       "      <td>2</td>\n",
       "      <td>1/1/2016</td>\n",
       "      <td>1/12/2016</td>\n",
       "      <td>266019</td>\n",
       "      <td>0</td>\n",
       "      <td>373</td>\n",
       "      <td>1</td>\n",
       "      <td>CAD</td>\n",
       "    </tr>\n",
       "    <tr>\n",
       "      <th>...</th>\n",
       "      <td>...</td>\n",
       "      <td>...</td>\n",
       "      <td>...</td>\n",
       "      <td>...</td>\n",
       "      <td>...</td>\n",
       "      <td>...</td>\n",
       "      <td>...</td>\n",
       "      <td>...</td>\n",
       "      <td>...</td>\n",
       "    </tr>\n",
       "    <tr>\n",
       "      <th>62879</th>\n",
       "      <td>2243030</td>\n",
       "      <td>1</td>\n",
       "      <td>2/20/2021</td>\n",
       "      <td>NaN</td>\n",
       "      <td>1216913</td>\n",
       "      <td>43</td>\n",
       "      <td>632</td>\n",
       "      <td>3</td>\n",
       "      <td>USD</td>\n",
       "    </tr>\n",
       "    <tr>\n",
       "      <th>62880</th>\n",
       "      <td>2243031</td>\n",
       "      <td>1</td>\n",
       "      <td>2/20/2021</td>\n",
       "      <td>2/24/2021</td>\n",
       "      <td>511229</td>\n",
       "      <td>0</td>\n",
       "      <td>98</td>\n",
       "      <td>4</td>\n",
       "      <td>EUR</td>\n",
       "    </tr>\n",
       "    <tr>\n",
       "      <th>62881</th>\n",
       "      <td>2243032</td>\n",
       "      <td>1</td>\n",
       "      <td>2/20/2021</td>\n",
       "      <td>2/23/2021</td>\n",
       "      <td>331277</td>\n",
       "      <td>0</td>\n",
       "      <td>1613</td>\n",
       "      <td>2</td>\n",
       "      <td>CAD</td>\n",
       "    </tr>\n",
       "    <tr>\n",
       "      <th>62882</th>\n",
       "      <td>2243032</td>\n",
       "      <td>2</td>\n",
       "      <td>2/20/2021</td>\n",
       "      <td>2/23/2021</td>\n",
       "      <td>331277</td>\n",
       "      <td>0</td>\n",
       "      <td>1717</td>\n",
       "      <td>2</td>\n",
       "      <td>CAD</td>\n",
       "    </tr>\n",
       "    <tr>\n",
       "      <th>62883</th>\n",
       "      <td>2243032</td>\n",
       "      <td>3</td>\n",
       "      <td>2/20/2021</td>\n",
       "      <td>2/23/2021</td>\n",
       "      <td>331277</td>\n",
       "      <td>0</td>\n",
       "      <td>464</td>\n",
       "      <td>7</td>\n",
       "      <td>CAD</td>\n",
       "    </tr>\n",
       "  </tbody>\n",
       "</table>\n",
       "<p>62884 rows × 9 columns</p>\n",
       "</div>"
      ],
      "text/plain": [
       "       Order Number  Line Item Order Date Delivery Date  CustomerKey  \\\n",
       "0            366000          1   1/1/2016           NaN       265598   \n",
       "1            366001          1   1/1/2016     1/13/2016      1269051   \n",
       "2            366001          2   1/1/2016     1/13/2016      1269051   \n",
       "3            366002          1   1/1/2016     1/12/2016       266019   \n",
       "4            366002          2   1/1/2016     1/12/2016       266019   \n",
       "...             ...        ...        ...           ...          ...   \n",
       "62879       2243030          1  2/20/2021           NaN      1216913   \n",
       "62880       2243031          1  2/20/2021     2/24/2021       511229   \n",
       "62881       2243032          1  2/20/2021     2/23/2021       331277   \n",
       "62882       2243032          2  2/20/2021     2/23/2021       331277   \n",
       "62883       2243032          3  2/20/2021     2/23/2021       331277   \n",
       "\n",
       "       StoreKey  ProductKey  Quantity Currency Code  \n",
       "0            10        1304         1           CAD  \n",
       "1             0        1048         2           USD  \n",
       "2             0        2007         1           USD  \n",
       "3             0        1106         7           CAD  \n",
       "4             0         373         1           CAD  \n",
       "...         ...         ...       ...           ...  \n",
       "62879        43         632         3           USD  \n",
       "62880         0          98         4           EUR  \n",
       "62881         0        1613         2           CAD  \n",
       "62882         0        1717         2           CAD  \n",
       "62883         0         464         7           CAD  \n",
       "\n",
       "[62884 rows x 9 columns]"
      ]
     },
     "execution_count": 69,
     "metadata": {},
     "output_type": "execute_result"
    }
   ],
   "source": [
    "path=r\"C:\\Users\\anand\\Downloads\\Sales.csv\"\n",
    "df_sales=pd.read_csv(path)\n",
    "df_sales"
   ]
  },
  {
   "cell_type": "code",
   "execution_count": 71,
   "id": "5b1c1663-fd70-43f8-91fe-2532d60752a5",
   "metadata": {},
   "outputs": [
    {
     "name": "stdout",
     "output_type": "stream",
     "text": [
      "<class 'pandas.core.frame.DataFrame'>\n",
      "RangeIndex: 62884 entries, 0 to 62883\n",
      "Data columns (total 9 columns):\n",
      " #   Column         Non-Null Count  Dtype \n",
      "---  ------         --------------  ----- \n",
      " 0   Order Number   62884 non-null  int64 \n",
      " 1   Line Item      62884 non-null  int64 \n",
      " 2   Order Date     62884 non-null  object\n",
      " 3   Delivery Date  13165 non-null  object\n",
      " 4   CustomerKey    62884 non-null  int64 \n",
      " 5   StoreKey       62884 non-null  int64 \n",
      " 6   ProductKey     62884 non-null  int64 \n",
      " 7   Quantity       62884 non-null  int64 \n",
      " 8   Currency Code  62884 non-null  object\n",
      "dtypes: int64(6), object(3)\n",
      "memory usage: 4.3+ MB\n"
     ]
    }
   ],
   "source": [
    "df_sales.info()"
   ]
  },
  {
   "cell_type": "code",
   "execution_count": 75,
   "id": "beea7605-b9f3-444c-b0ce-4b26551128a8",
   "metadata": {},
   "outputs": [
    {
     "data": {
      "text/plain": [
       "Order Number         0\n",
       "Line Item            0\n",
       "Order Date           0\n",
       "Delivery Date    49719\n",
       "CustomerKey          0\n",
       "StoreKey             0\n",
       "ProductKey           0\n",
       "Quantity             0\n",
       "Currency Code        0\n",
       "dtype: int64"
      ]
     },
     "execution_count": 75,
     "metadata": {},
     "output_type": "execute_result"
    }
   ],
   "source": [
    "df_sales.isnull().sum()"
   ]
  },
  {
   "cell_type": "code",
   "execution_count": 77,
   "id": "7c1a28e0-5424-475e-9472-4cd4c0df2225",
   "metadata": {},
   "outputs": [],
   "source": [
    "df_sales['Order Date'] = pd.to_datetime(df_sales['Order Date'], format=\"%m/%d/%Y\", errors='coerce').dt.date"
   ]
  },
  {
   "cell_type": "code",
   "execution_count": 79,
   "id": "0014c824-408c-4b5b-ae7f-dd7d1c01fe13",
   "metadata": {},
   "outputs": [],
   "source": [
    "df_sales[\"Delivery Date\"]=df_sales[\"Delivery Date\"].fillna(0)"
   ]
  },
  {
   "cell_type": "code",
   "execution_count": null,
   "id": "cd4dec89-c6f7-4804-b4ea-a392aff9e6fe",
   "metadata": {},
   "outputs": [],
   "source": [
    "#Store Table"
   ]
  },
  {
   "cell_type": "code",
   "execution_count": 81,
   "id": "a1599d14-cb9b-46a3-adb1-21cc1076fb17",
   "metadata": {},
   "outputs": [
    {
     "data": {
      "text/html": [
       "<div>\n",
       "<style scoped>\n",
       "    .dataframe tbody tr th:only-of-type {\n",
       "        vertical-align: middle;\n",
       "    }\n",
       "\n",
       "    .dataframe tbody tr th {\n",
       "        vertical-align: top;\n",
       "    }\n",
       "\n",
       "    .dataframe thead th {\n",
       "        text-align: right;\n",
       "    }\n",
       "</style>\n",
       "<table border=\"1\" class=\"dataframe\">\n",
       "  <thead>\n",
       "    <tr style=\"text-align: right;\">\n",
       "      <th></th>\n",
       "      <th>StoreKey</th>\n",
       "      <th>Country</th>\n",
       "      <th>State</th>\n",
       "      <th>Square Meters</th>\n",
       "      <th>Open Date</th>\n",
       "    </tr>\n",
       "  </thead>\n",
       "  <tbody>\n",
       "    <tr>\n",
       "      <th>0</th>\n",
       "      <td>1</td>\n",
       "      <td>Australia</td>\n",
       "      <td>Australian Capital Territory</td>\n",
       "      <td>595.0</td>\n",
       "      <td>1/1/2008</td>\n",
       "    </tr>\n",
       "    <tr>\n",
       "      <th>1</th>\n",
       "      <td>2</td>\n",
       "      <td>Australia</td>\n",
       "      <td>Northern Territory</td>\n",
       "      <td>665.0</td>\n",
       "      <td>1/12/2008</td>\n",
       "    </tr>\n",
       "    <tr>\n",
       "      <th>2</th>\n",
       "      <td>3</td>\n",
       "      <td>Australia</td>\n",
       "      <td>South Australia</td>\n",
       "      <td>2000.0</td>\n",
       "      <td>1/7/2012</td>\n",
       "    </tr>\n",
       "    <tr>\n",
       "      <th>3</th>\n",
       "      <td>4</td>\n",
       "      <td>Australia</td>\n",
       "      <td>Tasmania</td>\n",
       "      <td>2000.0</td>\n",
       "      <td>1/1/2010</td>\n",
       "    </tr>\n",
       "    <tr>\n",
       "      <th>4</th>\n",
       "      <td>5</td>\n",
       "      <td>Australia</td>\n",
       "      <td>Victoria</td>\n",
       "      <td>2000.0</td>\n",
       "      <td>12/9/2015</td>\n",
       "    </tr>\n",
       "    <tr>\n",
       "      <th>...</th>\n",
       "      <td>...</td>\n",
       "      <td>...</td>\n",
       "      <td>...</td>\n",
       "      <td>...</td>\n",
       "      <td>...</td>\n",
       "    </tr>\n",
       "    <tr>\n",
       "      <th>62</th>\n",
       "      <td>63</td>\n",
       "      <td>United States</td>\n",
       "      <td>Utah</td>\n",
       "      <td>2000.0</td>\n",
       "      <td>3/6/2008</td>\n",
       "    </tr>\n",
       "    <tr>\n",
       "      <th>63</th>\n",
       "      <td>64</td>\n",
       "      <td>United States</td>\n",
       "      <td>Washington DC</td>\n",
       "      <td>1330.0</td>\n",
       "      <td>1/1/2010</td>\n",
       "    </tr>\n",
       "    <tr>\n",
       "      <th>64</th>\n",
       "      <td>65</td>\n",
       "      <td>United States</td>\n",
       "      <td>West Virginia</td>\n",
       "      <td>1785.0</td>\n",
       "      <td>1/1/2012</td>\n",
       "    </tr>\n",
       "    <tr>\n",
       "      <th>65</th>\n",
       "      <td>66</td>\n",
       "      <td>United States</td>\n",
       "      <td>Wyoming</td>\n",
       "      <td>840.0</td>\n",
       "      <td>1/1/2014</td>\n",
       "    </tr>\n",
       "    <tr>\n",
       "      <th>66</th>\n",
       "      <td>0</td>\n",
       "      <td>Online</td>\n",
       "      <td>Online</td>\n",
       "      <td>NaN</td>\n",
       "      <td>1/1/2010</td>\n",
       "    </tr>\n",
       "  </tbody>\n",
       "</table>\n",
       "<p>67 rows × 5 columns</p>\n",
       "</div>"
      ],
      "text/plain": [
       "    StoreKey        Country                         State  Square Meters  \\\n",
       "0          1      Australia  Australian Capital Territory          595.0   \n",
       "1          2      Australia            Northern Territory          665.0   \n",
       "2          3      Australia               South Australia         2000.0   \n",
       "3          4      Australia                      Tasmania         2000.0   \n",
       "4          5      Australia                      Victoria         2000.0   \n",
       "..       ...            ...                           ...            ...   \n",
       "62        63  United States                          Utah         2000.0   \n",
       "63        64  United States                 Washington DC         1330.0   \n",
       "64        65  United States                 West Virginia         1785.0   \n",
       "65        66  United States                       Wyoming          840.0   \n",
       "66         0         Online                        Online            NaN   \n",
       "\n",
       "    Open Date  \n",
       "0    1/1/2008  \n",
       "1   1/12/2008  \n",
       "2    1/7/2012  \n",
       "3    1/1/2010  \n",
       "4   12/9/2015  \n",
       "..        ...  \n",
       "62   3/6/2008  \n",
       "63   1/1/2010  \n",
       "64   1/1/2012  \n",
       "65   1/1/2014  \n",
       "66   1/1/2010  \n",
       "\n",
       "[67 rows x 5 columns]"
      ]
     },
     "execution_count": 81,
     "metadata": {},
     "output_type": "execute_result"
    }
   ],
   "source": [
    "path=r\"C:\\Users\\anand\\Downloads\\Stores.csv\"\n",
    "df_stores=pd.read_csv(path)\n",
    "df_stores"
   ]
  },
  {
   "cell_type": "code",
   "execution_count": 83,
   "id": "66b1aebd-c902-479c-a2e8-7b90f136ceb4",
   "metadata": {},
   "outputs": [
    {
     "name": "stdout",
     "output_type": "stream",
     "text": [
      "<class 'pandas.core.frame.DataFrame'>\n",
      "RangeIndex: 67 entries, 0 to 66\n",
      "Data columns (total 5 columns):\n",
      " #   Column         Non-Null Count  Dtype  \n",
      "---  ------         --------------  -----  \n",
      " 0   StoreKey       67 non-null     int64  \n",
      " 1   Country        67 non-null     object \n",
      " 2   State          67 non-null     object \n",
      " 3   Square Meters  66 non-null     float64\n",
      " 4   Open Date      67 non-null     object \n",
      "dtypes: float64(1), int64(1), object(3)\n",
      "memory usage: 2.7+ KB\n"
     ]
    }
   ],
   "source": [
    "df_stores.info()"
   ]
  },
  {
   "cell_type": "code",
   "execution_count": 85,
   "id": "8c4404da-8fe5-4674-8a51-383540c8e487",
   "metadata": {},
   "outputs": [
    {
     "data": {
      "text/plain": [
       "StoreKey         0\n",
       "Country          0\n",
       "State            0\n",
       "Square Meters    1\n",
       "Open Date        0\n",
       "dtype: int64"
      ]
     },
     "execution_count": 85,
     "metadata": {},
     "output_type": "execute_result"
    }
   ],
   "source": [
    "df_stores.isnull().sum()"
   ]
  },
  {
   "cell_type": "code",
   "execution_count": 87,
   "id": "d184f364-758a-40dd-b322-00733315137e",
   "metadata": {},
   "outputs": [
    {
     "data": {
      "text/html": [
       "<div>\n",
       "<style scoped>\n",
       "    .dataframe tbody tr th:only-of-type {\n",
       "        vertical-align: middle;\n",
       "    }\n",
       "\n",
       "    .dataframe tbody tr th {\n",
       "        vertical-align: top;\n",
       "    }\n",
       "\n",
       "    .dataframe thead th {\n",
       "        text-align: right;\n",
       "    }\n",
       "</style>\n",
       "<table border=\"1\" class=\"dataframe\">\n",
       "  <thead>\n",
       "    <tr style=\"text-align: right;\">\n",
       "      <th></th>\n",
       "      <th>StoreKey</th>\n",
       "      <th>Country</th>\n",
       "      <th>State</th>\n",
       "      <th>Square Meters</th>\n",
       "      <th>Open Date</th>\n",
       "    </tr>\n",
       "  </thead>\n",
       "  <tbody>\n",
       "    <tr>\n",
       "      <th>0</th>\n",
       "      <td>1</td>\n",
       "      <td>Australia</td>\n",
       "      <td>Australian Capital Territory</td>\n",
       "      <td>595.0</td>\n",
       "      <td>1/1/2008</td>\n",
       "    </tr>\n",
       "    <tr>\n",
       "      <th>1</th>\n",
       "      <td>2</td>\n",
       "      <td>Australia</td>\n",
       "      <td>Northern Territory</td>\n",
       "      <td>665.0</td>\n",
       "      <td>1/12/2008</td>\n",
       "    </tr>\n",
       "    <tr>\n",
       "      <th>2</th>\n",
       "      <td>3</td>\n",
       "      <td>Australia</td>\n",
       "      <td>South Australia</td>\n",
       "      <td>2000.0</td>\n",
       "      <td>1/7/2012</td>\n",
       "    </tr>\n",
       "    <tr>\n",
       "      <th>3</th>\n",
       "      <td>4</td>\n",
       "      <td>Australia</td>\n",
       "      <td>Tasmania</td>\n",
       "      <td>2000.0</td>\n",
       "      <td>1/1/2010</td>\n",
       "    </tr>\n",
       "    <tr>\n",
       "      <th>4</th>\n",
       "      <td>5</td>\n",
       "      <td>Australia</td>\n",
       "      <td>Victoria</td>\n",
       "      <td>2000.0</td>\n",
       "      <td>12/9/2015</td>\n",
       "    </tr>\n",
       "    <tr>\n",
       "      <th>...</th>\n",
       "      <td>...</td>\n",
       "      <td>...</td>\n",
       "      <td>...</td>\n",
       "      <td>...</td>\n",
       "      <td>...</td>\n",
       "    </tr>\n",
       "    <tr>\n",
       "      <th>62</th>\n",
       "      <td>63</td>\n",
       "      <td>United States</td>\n",
       "      <td>Utah</td>\n",
       "      <td>2000.0</td>\n",
       "      <td>3/6/2008</td>\n",
       "    </tr>\n",
       "    <tr>\n",
       "      <th>63</th>\n",
       "      <td>64</td>\n",
       "      <td>United States</td>\n",
       "      <td>Washington DC</td>\n",
       "      <td>1330.0</td>\n",
       "      <td>1/1/2010</td>\n",
       "    </tr>\n",
       "    <tr>\n",
       "      <th>64</th>\n",
       "      <td>65</td>\n",
       "      <td>United States</td>\n",
       "      <td>West Virginia</td>\n",
       "      <td>1785.0</td>\n",
       "      <td>1/1/2012</td>\n",
       "    </tr>\n",
       "    <tr>\n",
       "      <th>65</th>\n",
       "      <td>66</td>\n",
       "      <td>United States</td>\n",
       "      <td>Wyoming</td>\n",
       "      <td>840.0</td>\n",
       "      <td>1/1/2014</td>\n",
       "    </tr>\n",
       "    <tr>\n",
       "      <th>66</th>\n",
       "      <td>0</td>\n",
       "      <td>Online</td>\n",
       "      <td>Online</td>\n",
       "      <td>0.0</td>\n",
       "      <td>1/1/2010</td>\n",
       "    </tr>\n",
       "  </tbody>\n",
       "</table>\n",
       "<p>67 rows × 5 columns</p>\n",
       "</div>"
      ],
      "text/plain": [
       "    StoreKey        Country                         State  Square Meters  \\\n",
       "0          1      Australia  Australian Capital Territory          595.0   \n",
       "1          2      Australia            Northern Territory          665.0   \n",
       "2          3      Australia               South Australia         2000.0   \n",
       "3          4      Australia                      Tasmania         2000.0   \n",
       "4          5      Australia                      Victoria         2000.0   \n",
       "..       ...            ...                           ...            ...   \n",
       "62        63  United States                          Utah         2000.0   \n",
       "63        64  United States                 Washington DC         1330.0   \n",
       "64        65  United States                 West Virginia         1785.0   \n",
       "65        66  United States                       Wyoming          840.0   \n",
       "66         0         Online                        Online            0.0   \n",
       "\n",
       "    Open Date  \n",
       "0    1/1/2008  \n",
       "1   1/12/2008  \n",
       "2    1/7/2012  \n",
       "3    1/1/2010  \n",
       "4   12/9/2015  \n",
       "..        ...  \n",
       "62   3/6/2008  \n",
       "63   1/1/2010  \n",
       "64   1/1/2012  \n",
       "65   1/1/2014  \n",
       "66   1/1/2010  \n",
       "\n",
       "[67 rows x 5 columns]"
      ]
     },
     "execution_count": 87,
     "metadata": {},
     "output_type": "execute_result"
    }
   ],
   "source": [
    "df_stores.fillna(0)"
   ]
  },
  {
   "cell_type": "code",
   "execution_count": 89,
   "id": "1a7bf369-0a0d-4119-92e8-db89f11f2e1c",
   "metadata": {},
   "outputs": [],
   "source": [
    "df_stores['Open Date'] = pd.to_datetime(df_stores['Open Date'], format=\"%m/%d/%Y\", errors='coerce').dt.date"
   ]
  },
  {
   "cell_type": "code",
   "execution_count": 91,
   "id": "37066a5d-e16f-4ca2-ba78-8e120af66c94",
   "metadata": {},
   "outputs": [],
   "source": [
    "df_stores = df_stores.replace({np.nan: None})"
   ]
  },
  {
   "cell_type": "code",
   "execution_count": null,
   "id": "4c435ba4-c590-4b98-8b43-b978d5138dd1",
   "metadata": {},
   "outputs": [],
   "source": [
    "#MySql Connector"
   ]
  },
  {
   "cell_type": "code",
   "execution_count": 113,
   "id": "09920a95-2a74-4351-90a8-8853530ac10c",
   "metadata": {},
   "outputs": [],
   "source": [
    "try:\n",
    "    mydb= mysql.connector.connect(\n",
    "        host =\"127.0.0.1\",\n",
    "        database='datasparkdbase',\n",
    "        user=\"root\",\n",
    "        password=\"Vasandh@12\",\n",
    "        port=\"3306\"\n",
    "        \n",
    "    )\n",
    "    my_cursor=mydb.cursor()\n",
    "    my_cursor.execute(\"SELECT SCHEMA_NAME FROM INFORMATION_SCHEMA.SCHEMATA WHERE SCHEMA_NAME = 'datasparkdbase'\")\n",
    "    exists = my_cursor.fetchone()\n",
    "    if not exists:\n",
    "        my_cursor.execute(\"CREATE DATABASE datasparkdbase\")\n",
    "\n",
    "except Error as e:\n",
    "    print(f\"Error: {e}\")"
   ]
  },
  {
   "cell_type": "code",
   "execution_count": 115,
   "id": "d2345d22-8c0f-4f11-b5a1-1285d247dc0a",
   "metadata": {},
   "outputs": [
    {
     "name": "stdout",
     "output_type": "stream",
     "text": [
      "Table Created successfully\n"
     ]
    }
   ],
   "source": [
    "my_cursor.execute('''CREATE TABLE IF NOT EXISTS customer_details(\n",
    "                  CustomerKey INT,\n",
    "                  Gender VARCHAR(255),\n",
    "                  Name VARCHAR(255),\n",
    "                  City VARCHAR(255),\n",
    "                  State VARCHAR(255),\n",
    "                  Country VARCHAR(255),\n",
    "                  Continent VARCHAR(255),\n",
    "                  Birthday VARCHAR(255)\n",
    "                  )''')\n",
    "print(\"Table Created successfully\")"
   ]
  },
  {
   "cell_type": "code",
   "execution_count": 117,
   "id": "51410b3d-0f92-4cfe-8c5f-568c56289b3e",
   "metadata": {},
   "outputs": [
    {
     "name": "stdout",
     "output_type": "stream",
     "text": [
      "Inserted successfully\n"
     ]
    }
   ],
   "source": [
    "insert_query='''INSERT INTO customer_details(\n",
    "                  CustomerKey,\n",
    "                  Gender,\n",
    "                  Name,\n",
    "                  City,\n",
    "                  State,\n",
    "                  Country,\n",
    "                  Continent,\n",
    "                  Birthday)\n",
    "                  VALUES(%s,%s,%s,%s,%s,%s,%s,%s)'''\n",
    "data=df_customers.values.tolist()\n",
    "my_cursor.executemany(insert_query,data)\n",
    "print(\"Inserted successfully\")"
   ]
  },
  {
   "cell_type": "code",
   "execution_count": 119,
   "id": "6c0f9951-5b9f-46fb-afe6-e0e372a08cb3",
   "metadata": {},
   "outputs": [
    {
     "name": "stdout",
     "output_type": "stream",
     "text": [
      "Table Created successfully\n"
     ]
    }
   ],
   "source": [
    "my_cursor.execute('''CREATE TABLE IF NOT EXISTS exchange_details(\n",
    "                  Date VARCHAR(255),\n",
    "                  Currency_Code VARCHAR(255),\n",
    "                  Exchange FLOAT\n",
    "                  )''')\n",
    "print(\"Table Created successfully\")"
   ]
  },
  {
   "cell_type": "code",
   "execution_count": 121,
   "id": "d979b8c8-176e-4af8-9e80-bb171fcbd08d",
   "metadata": {},
   "outputs": [
    {
     "name": "stdout",
     "output_type": "stream",
     "text": [
      "Inserted successfully\n"
     ]
    }
   ],
   "source": [
    "insert_query ='''INSERT INTO exchange_details(\n",
    "                  Date,\n",
    "                 Currency_Code,\n",
    "                  Exchange)\n",
    "                  VALUES (%s, %s, %s)'''\n",
    "data=df_exchange.values.tolist()\n",
    "my_cursor.executemany(insert_query,data)\n",
    "print(\"Inserted successfully\")"
   ]
  },
  {
   "cell_type": "code",
   "execution_count": 123,
   "id": "3ad9cb4e-d4da-42a4-bf56-698d5bc1ccc2",
   "metadata": {},
   "outputs": [
    {
     "name": "stdout",
     "output_type": "stream",
     "text": [
      "Table Created successfully\n"
     ]
    }
   ],
   "source": [
    "my_cursor.execute('''CREATE TABLE IF NOT EXISTS product_details(\n",
    "                  ProductKey INT,\n",
    "                  Product_Name VARCHAR(255),\n",
    "                  Brand VARCHAR(255),\n",
    "                  Color VARCHAR(255),\n",
    "                  Unit_Cost_USD FLOAT,\n",
    "                  Unit_Price_USD FLOAT,\n",
    "                  Subcategory VARCHAR(255),\n",
    "                  CategoryKey VARCHAR(255),\n",
    "                  Category VARCHAR(255)\n",
    "                  )''')\n",
    "print(\"Table Created successfully\")"
   ]
  },
  {
   "cell_type": "code",
   "execution_count": 125,
   "id": "8498efda-37e5-45a5-9344-139cfeb3b714",
   "metadata": {},
   "outputs": [
    {
     "name": "stdout",
     "output_type": "stream",
     "text": [
      "Inserted successfully\n"
     ]
    }
   ],
   "source": [
    "insert_query ='''INSERT INTO product_details(\n",
    "                  ProductKey,\n",
    "                  Product_Name,\n",
    "                  Brand,\n",
    "                  Color,\n",
    "                  Unit_Cost_USD,\n",
    "                  Unit_Price_USD,\n",
    "                  Subcategory,\n",
    "                  CategoryKey,\n",
    "                  Category)\n",
    "                  VALUES (%s, %s, %s, %s, %s, %s, %s, %s,%s)'''\n",
    "data=df_products.values.tolist()\n",
    "my_cursor.executemany(insert_query,data)\n",
    "print(\"Inserted successfully\")"
   ]
  },
  {
   "cell_type": "code",
   "execution_count": 127,
   "id": "76b29304-d2aa-411c-803d-91598f790012",
   "metadata": {},
   "outputs": [
    {
     "name": "stdout",
     "output_type": "stream",
     "text": [
      "Table Created successfully\n"
     ]
    }
   ],
   "source": [
    "my_cursor.execute('''CREATE TABLE IF NOT EXISTS sales_details(\n",
    "                  Order_Number INT,\n",
    "                  Line_Item INT,\n",
    "                  Order_Date VARCHAR(255),\n",
    "                  Delivery_Date VARCHAR(255),\n",
    "                  CustomerKey INT,\n",
    "                  StoreKey INT,\n",
    "                  ProductKey INT,\n",
    "                  Quantity INT,\n",
    "                  Currency_Code VARCHAR(255)\n",
    "                  )''')\n",
    "print(\"Table Created successfully\")"
   ]
  },
  {
   "cell_type": "code",
   "execution_count": 129,
   "id": "2d821f44-b3cd-4724-8b85-9fbaee900b15",
   "metadata": {},
   "outputs": [
    {
     "name": "stdout",
     "output_type": "stream",
     "text": [
      "Inserted successfully\n"
     ]
    }
   ],
   "source": [
    "insert_query ='''INSERT INTO sales_details(\n",
    "                  Order_Number,\n",
    "                  Line_Item,\n",
    "                  Order_Date,\n",
    "                  Delivery_Date,\n",
    "                  CustomerKey,\n",
    "                  StoreKey,\n",
    "                  ProductKey,\n",
    "                  Quantity,\n",
    "                  Currency_Code)\n",
    "                  VALUES (%s, %s, %s, %s, %s, %s, %s, %s,%s)'''\n",
    "data=df_sales.values.tolist()\n",
    "my_cursor.executemany(insert_query,data)\n",
    "print(\"Inserted successfully\")"
   ]
  },
  {
   "cell_type": "code",
   "execution_count": 131,
   "id": "16203517-b24b-424b-842e-5f4fa5472b7a",
   "metadata": {},
   "outputs": [
    {
     "name": "stdout",
     "output_type": "stream",
     "text": [
      "Table Created successfully\n"
     ]
    }
   ],
   "source": [
    "my_cursor.execute('''CREATE TABLE IF NOT EXISTS stores_details(\n",
    "                  StoreKey INT,\n",
    "                  Country VARCHAR(255),\n",
    "                  State VARCHAR(255),\n",
    "                  Square_Meters FLOAT,\n",
    "                  Open_Date VARCHAR(255)\n",
    "                  )''')\n",
    "print(\"Table Created successfully\")"
   ]
  },
  {
   "cell_type": "code",
   "execution_count": 133,
   "id": "69e9a1d0-ee91-4650-805f-92f5e62d281d",
   "metadata": {},
   "outputs": [
    {
     "name": "stdout",
     "output_type": "stream",
     "text": [
      "Inserted successfully\n"
     ]
    }
   ],
   "source": [
    "insert_query ='''INSERT INTO stores_details(\n",
    "                 StoreKey,\n",
    "                  Country,\n",
    "                  State,\n",
    "                  Square_Meters,\n",
    "                  Open_Date)\n",
    "                  VALUES (%s, %s, %s, %s, %s)'''\n",
    "data=df_stores.values.tolist()\n",
    "my_cursor.executemany(insert_query,data)\n",
    "print(\"Inserted successfully\")"
   ]
  }
 ],
 "metadata": {
  "kernelspec": {
   "display_name": "Python 3 (ipykernel)",
   "language": "python",
   "name": "python3"
  },
  "language_info": {
   "codemirror_mode": {
    "name": "ipython",
    "version": 3
   },
   "file_extension": ".py",
   "mimetype": "text/x-python",
   "name": "python",
   "nbconvert_exporter": "python",
   "pygments_lexer": "ipython3",
   "version": "3.12.4"
  }
 },
 "nbformat": 4,
 "nbformat_minor": 5
}
